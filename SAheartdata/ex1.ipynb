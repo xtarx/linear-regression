{
 "cells": [
  {
   "cell_type": "code",
   "execution_count": 33,
   "metadata": {
    "collapsed": false
   },
   "outputs": [],
   "source": [
    "import os\n",
    "import pandas as pd\n",
    "import numpy as np\n",
    "\n",
    "from sklearn.linear_model import LogisticRegression\n",
    "from sklearn import metrics,preprocessing\n",
    "from sklearn.feature_selection import SelectFromModel\n",
    "from sklearn.linear_model import Ridge, RidgeCV, ElasticNet, LassoCV, LassoLarsCV\n",
    "\n",
    "import scipy\n",
    "path = os.getcwd()\n",
    "path='/Users/xtarx/Documents/TUM/4th/MLMA/ex1/SAheartdata/'"
   ]
  },
  {
   "cell_type": "code",
   "execution_count": 168,
   "metadata": {
    "collapsed": false
   },
   "outputs": [],
   "source": [
    "data = pd.DataFrame.from_csv(path + \"SAheart.csv\",index_col=None)\n",
    "data.famhist =pd.Categorical(data.famhist).codes\n",
    "train_x = data.drop(['chd'], axis=1)\n",
    "train_y = data['chd']\n",
    "\n",
    "features = ['sbp','tobacco','ldl','adiposity','famhist','typea','obesity','alcohol','age']\n",
    "\n"
   ]
  },
  {
   "cell_type": "code",
   "execution_count": 130,
   "metadata": {
    "collapsed": false
   },
   "outputs": [
    {
     "data": {
      "text/html": [
       "<div>\n",
       "<table border=\"1\" class=\"dataframe\">\n",
       "  <thead>\n",
       "    <tr style=\"text-align: right;\">\n",
       "      <th></th>\n",
       "      <th>sbp</th>\n",
       "      <th>tobacco</th>\n",
       "      <th>ldl</th>\n",
       "      <th>adiposity</th>\n",
       "      <th>famhist</th>\n",
       "      <th>typea</th>\n",
       "      <th>obesity</th>\n",
       "      <th>alcohol</th>\n",
       "      <th>age</th>\n",
       "      <th>chd</th>\n",
       "    </tr>\n",
       "  </thead>\n",
       "  <tbody>\n",
       "    <tr>\n",
       "      <th>0</th>\n",
       "      <td>160</td>\n",
       "      <td>12.00</td>\n",
       "      <td>5.73</td>\n",
       "      <td>23.11</td>\n",
       "      <td>1</td>\n",
       "      <td>49</td>\n",
       "      <td>25.30</td>\n",
       "      <td>97.20</td>\n",
       "      <td>52</td>\n",
       "      <td>1</td>\n",
       "    </tr>\n",
       "    <tr>\n",
       "      <th>1</th>\n",
       "      <td>144</td>\n",
       "      <td>0.01</td>\n",
       "      <td>4.41</td>\n",
       "      <td>28.61</td>\n",
       "      <td>0</td>\n",
       "      <td>55</td>\n",
       "      <td>28.87</td>\n",
       "      <td>2.06</td>\n",
       "      <td>63</td>\n",
       "      <td>1</td>\n",
       "    </tr>\n",
       "    <tr>\n",
       "      <th>2</th>\n",
       "      <td>118</td>\n",
       "      <td>0.08</td>\n",
       "      <td>3.48</td>\n",
       "      <td>32.28</td>\n",
       "      <td>1</td>\n",
       "      <td>52</td>\n",
       "      <td>29.14</td>\n",
       "      <td>3.81</td>\n",
       "      <td>46</td>\n",
       "      <td>0</td>\n",
       "    </tr>\n",
       "    <tr>\n",
       "      <th>3</th>\n",
       "      <td>170</td>\n",
       "      <td>7.50</td>\n",
       "      <td>6.41</td>\n",
       "      <td>38.03</td>\n",
       "      <td>1</td>\n",
       "      <td>51</td>\n",
       "      <td>31.99</td>\n",
       "      <td>24.26</td>\n",
       "      <td>58</td>\n",
       "      <td>1</td>\n",
       "    </tr>\n",
       "    <tr>\n",
       "      <th>4</th>\n",
       "      <td>134</td>\n",
       "      <td>13.60</td>\n",
       "      <td>3.50</td>\n",
       "      <td>27.78</td>\n",
       "      <td>1</td>\n",
       "      <td>60</td>\n",
       "      <td>25.99</td>\n",
       "      <td>57.34</td>\n",
       "      <td>49</td>\n",
       "      <td>1</td>\n",
       "    </tr>\n",
       "  </tbody>\n",
       "</table>\n",
       "</div>"
      ],
      "text/plain": [
       "   sbp  tobacco   ldl  adiposity  famhist  typea  obesity  alcohol  age  chd\n",
       "0  160    12.00  5.73      23.11        1     49    25.30    97.20   52    1\n",
       "1  144     0.01  4.41      28.61        0     55    28.87     2.06   63    1\n",
       "2  118     0.08  3.48      32.28        1     52    29.14     3.81   46    0\n",
       "3  170     7.50  6.41      38.03        1     51    31.99    24.26   58    1\n",
       "4  134    13.60  3.50      27.78        1     60    25.99    57.34   49    1"
      ]
     },
     "execution_count": 130,
     "metadata": {},
     "output_type": "execute_result"
    }
   ],
   "source": [
    "data.head()"
   ]
  },
  {
   "cell_type": "markdown",
   "metadata": {},
   "source": [
    "a) Create a model that contains only the intercept (null model), i.e. no features\n",
    "are considered."
   ]
  },
  {
   "cell_type": "code",
   "execution_count": 132,
   "metadata": {
    "collapsed": true
   },
   "outputs": [],
   "source": [
    "def null_model(y):\n",
    "    logistic = LogisticRegression(C=1e6, solver='newton-cg', intercept_scaling=1e3)\n",
    "    X = np.zeros(y.size).reshape(-1, 1)\n",
    "    logistic.fit(X, y)\n",
    "    pred = logistic.predict(X)\n",
    "    ll = metrics.log_loss(y, pred)\n",
    "    return pred, ll,logistic.coef_"
   ]
  },
  {
   "cell_type": "markdown",
   "metadata": {},
   "source": [
    "Create multiple models each considering a single feature. Note that famhist\n",
    "is a categorical feature which has to be converted to numbers first."
   ]
  },
  {
   "cell_type": "code",
   "execution_count": 140,
   "metadata": {
    "collapsed": false
   },
   "outputs": [],
   "source": [
    "def full_model(X, y):\n",
    "    logistic = LogisticRegression(C=1e6,solver='newton-cg',intercept_scaling=1e3)\n",
    "    # X=X.reshape(-1,1)\n",
    "    logistic.fit(X, y)\n",
    "    pred = logistic.predict(X)\n",
    "    ll = metrics.log_loss(y, pred)\n",
    "    return pred, ll,logistic.coef_\n",
    "\n",
    "def model_wth_stats(X, y):\n",
    "    logistic = LogisticRegression(C=1e6,solver='newton-cg',intercept_scaling=1e3)\n",
    "    X=X.values.reshape(-1,1)\n",
    "    logistic.fit(X, y)\n",
    "    pred = logistic.predict(X)\n",
    "    ll = metrics.log_loss(y, pred)\n",
    "    return pred, ll,logistic.coef_"
   ]
  },
  {
   "cell_type": "markdown",
   "metadata": {},
   "source": [
    "Create a function likelihood_ratio_test implementing the likelihood-ratio\n",
    "test which takes the log-likelihood of the full model and the reduced model\n",
    "(Section 1.1). Use this function to compare the single feature models to the\n",
    "null model. Which feature yields the most significant improvement over the\n",
    "null model? Make sure you consider the p-value of the likelihood-ratio test."
   ]
  },
  {
   "cell_type": "code",
   "execution_count": 141,
   "metadata": {
    "collapsed": true
   },
   "outputs": [],
   "source": [
    "def likelihood_ratio_test(full_model_ll, reduced_model_ll, df):\n",
    "    D = -2 * (full_model_ll - reduced_model_ll)\n",
    "    p = scipy.special.gammaincc(df / 2, D / 2)\n",
    "    return p"
   ]
  },
  {
   "cell_type": "code",
   "execution_count": 142,
   "metadata": {
    "collapsed": false
   },
   "outputs": [],
   "source": [
    "null_pred, null_ll,null_coef = null_model(train_y)\n",
    "full_pred, full_ll,full_coef = full_model(train_x, train_y)"
   ]
  },
  {
   "cell_type": "code",
   "execution_count": 145,
   "metadata": {
    "collapsed": false
   },
   "outputs": [
    {
     "name": "stdout",
     "output_type": "stream",
     "text": [
      "Model for feature: famhist\n"
     ]
    }
   ],
   "source": [
    "print(\"Model for feature:\", features[4])\n",
    "sbp_pred, sbp_ll,sbp_coef = model_wth_stats(train_x['famhist'], train_y)"
   ]
  },
  {
   "cell_type": "code",
   "execution_count": 146,
   "metadata": {
    "collapsed": false
   },
   "outputs": [
    {
     "data": {
      "text/plain": [
       "11.961481002566471"
      ]
     },
     "execution_count": 146,
     "metadata": {},
     "output_type": "execute_result"
    }
   ],
   "source": [
    "sbp_ll"
   ]
  },
  {
   "cell_type": "code",
   "execution_count": 149,
   "metadata": {
    "collapsed": false
   },
   "outputs": [],
   "source": [
    "models = []\n",
    "models_ll = []\n",
    "p_value = []\n",
    "\n",
    "#Null model\n",
    "\n",
    "\n",
    "for i in range(0,len(features)):\n",
    "    pred,ll,_=model_wth_stats(train_x[features[i]],train_y)\n",
    "    models.append(pred)\n",
    "    models_ll.append(ll)\n",
    "    p_value.append(likelihood_ratio_test(full_ll, ll, 1))"
   ]
  },
  {
   "cell_type": "code",
   "execution_count": 150,
   "metadata": {
    "collapsed": false
   },
   "outputs": [
    {
     "data": {
      "text/plain": [
       "['sbp',\n",
       " 'tobacco',\n",
       " 'ldl',\n",
       " 'adiposity',\n",
       " 'famhist',\n",
       " 'typea',\n",
       " 'obesity',\n",
       " 'alcohol',\n",
       " 'age']"
      ]
     },
     "execution_count": 150,
     "metadata": {},
     "output_type": "execute_result"
    }
   ],
   "source": [
    "features"
   ]
  },
  {
   "cell_type": "code",
   "execution_count": 151,
   "metadata": {
    "collapsed": false
   },
   "outputs": [
    {
     "data": {
      "text/plain": [
       "[0.031326880803922312,\n",
       " 0.13424775557170157,\n",
       " 0.031326122482093953,\n",
       " 0.048649733662181179,\n",
       " 0.018671475844365633,\n",
       " 0.018671475844365633,\n",
       " 0.018671401970238567,\n",
       " 0.017144204216065061,\n",
       " 0.053187824578213541]"
      ]
     },
     "execution_count": 151,
     "metadata": {},
     "output_type": "execute_result"
    }
   ],
   "source": [
    "p_value"
   ]
  },
  {
   "cell_type": "code",
   "execution_count": 152,
   "metadata": {
    "collapsed": false
   },
   "outputs": [
    {
     "data": {
      "text/plain": [
       "[11.512947964465017,\n",
       " 10.316810248590579,\n",
       " 11.512968733229439,\n",
       " 11.139167259708127,\n",
       " 11.961481002566471,\n",
       " 11.961481002566471,\n",
       " 11.961484464027206,\n",
       " 12.036243720293246,\n",
       " 11.064472040465718]"
      ]
     },
     "execution_count": 152,
     "metadata": {},
     "output_type": "execute_result"
    }
   ],
   "source": [
    "models_ll"
   ]
  },
  {
   "cell_type": "markdown",
   "metadata": {},
   "source": [
    "d) Create a model which considers multiple features by starting with the null\n",
    "model and adding one additional feature at a time. To determine which feature\n",
    "to add, use the p-value as returned by the likelihood-ratio test. Extended\n",
    "models with one additional feature, where the p-value is greater than 0.05,\n",
    "should not be considered. In each step choose the model with the smallest\n",
    "p-value. Continue until all features have been selected or the model cannot be\n",
    "improved significantly any more. Print all selected features."
   ]
  },
  {
   "cell_type": "code",
   "execution_count": 177,
   "metadata": {
    "collapsed": false
   },
   "outputs": [
    {
     "name": "stdout",
     "output_type": "stream",
     "text": [
      "['alcohol', 'typea', 'obesity', 'adiposity']\n"
     ]
    }
   ],
   "source": [
    "selected_features = []\n",
    "min_p_value =0;\n",
    "p_values_m = []\n",
    "all_featues=list(features)\n",
    "\n",
    "while min_p_value<0.05:\n",
    "    p_values_m = []\n",
    "    for i in range(0,len(all_featues)):\n",
    "        temp_features = list(selected_features)\n",
    "        temp_features.append(all_featues[i])\n",
    "        _,new_ll,_ = full_model(train_x[temp_features],train_y)\n",
    "        p_values_m.append(likelihood_ratio_test(full_ll,new_ll,1))\n",
    "    min_p_value = min(p_values_m)\n",
    "    if(min_p_value<0.05):\n",
    "        selected_features.append(all_featues[p_values_m.index(min_p_value)])\n",
    "        del all_featues[p_values_m.index(min_p_value)]\n",
    "    \n",
    "print (selected_features)\n"
   ]
  },
  {
   "cell_type": "code",
   "execution_count": 180,
   "metadata": {
    "collapsed": false
   },
   "outputs": [
    {
     "name": "stdout",
     "output_type": "stream",
     "text": [
      "ll new is  11.7372759244\n"
     ]
    },
    {
     "data": {
      "text/plain": [
       "array([[ 0.00274485,  0.03382886, -0.13110714,  0.1317592 ]])"
      ]
     },
     "execution_count": 180,
     "metadata": {},
     "output_type": "execute_result"
    }
   ],
   "source": [
    "\n",
    "_, ll_new,coef = full_model(train_x[selected_features], train_y)\n",
    "print(\"ll new is \", ll_new)\n",
    "coef"
   ]
  },
  {
   "cell_type": "markdown",
   "metadata": {
    "collapsed": true
   },
   "source": [
    "L1 (lasso) regularization can also be used for feature selection. Consider a\n",
    "full model with all features as input, penalized with the L1 norm of coefficients\n",
    "(try regularization parameter C in the range of 0.01 − 0.1). Features\n",
    "with an non-zero coefficient are important for the classification. Compare the\n",
    "Lasso-selected features to the features selected by p-values. Please note Lassofeature\n",
    "selection requires a standardization of features that each feature has a\n",
    "zero mean and a unit standard derivation (e.g.using Sklearn built-in function\n",
    "sklearn.preprocessing.scale)"
   ]
  },
  {
   "cell_type": "code",
   "execution_count": 154,
   "metadata": {
    "collapsed": true
   },
   "outputs": [],
   "source": [
    "def lasso(X, y):\n",
    "    X = preprocessing.scale(X)\n",
    "    clf= LogisticRegression(penalty='l1', C = 0.1)\n",
    "    clf.fit(X , y)\n",
    "    return clf.coef_"
   ]
  },
  {
   "cell_type": "code",
   "execution_count": 155,
   "metadata": {
    "collapsed": true
   },
   "outputs": [],
   "source": [
    "lasso_coef=lasso(train_x, train_y)"
   ]
  },
  {
   "cell_type": "code",
   "execution_count": 156,
   "metadata": {
    "collapsed": false
   },
   "outputs": [
    {
     "data": {
      "text/plain": [
       "array([[ 0.03437361,  0.27791927,  0.23888362,  0.        ,  0.33218618,\n",
       "         0.19224072,  0.        ,  0.        ,  0.54088522]])"
      ]
     },
     "execution_count": 156,
     "metadata": {},
     "output_type": "execute_result"
    }
   ],
   "source": [
    "lasso_coef"
   ]
  },
  {
   "cell_type": "code",
   "execution_count": 157,
   "metadata": {
    "collapsed": false
   },
   "outputs": [
    {
     "name": "stdout",
     "output_type": "stream",
     "text": [
      "['sbp', 'tobacco', 'ldl', 'adiposity', 'famhist', 'typea', 'obesity', 'alcohol', 'age']\n"
     ]
    }
   ],
   "source": [
    "print(features)"
   ]
  },
  {
   "cell_type": "code",
   "execution_count": 158,
   "metadata": {
    "collapsed": false
   },
   "outputs": [
    {
     "name": "stdout",
     "output_type": "stream",
     "text": [
      "Lasso selected features: \n"
     ]
    }
   ],
   "source": [
    "print(\"Lasso selected features: \")\n",
    "\n",
    "lasso_selected_features=[]\n",
    "lasso_coef_list=lasso_coef.ravel()\n",
    "for i in range(0, len(lasso_coef_list)):\n",
    "    if(lasso_coef_list[i]!=0):\n",
    "        lasso_selected_features.append(features[i])\n",
    "    "
   ]
  },
  {
   "cell_type": "code",
   "execution_count": 159,
   "metadata": {
    "collapsed": false
   },
   "outputs": [
    {
     "data": {
      "text/plain": [
       "['sbp', 'tobacco', 'ldl', 'famhist', 'typea', 'age']"
      ]
     },
     "execution_count": 159,
     "metadata": {},
     "output_type": "execute_result"
    }
   ],
   "source": [
    "lasso_selected_features"
   ]
  },
  {
   "cell_type": "code",
   "execution_count": null,
   "metadata": {
    "collapsed": true
   },
   "outputs": [],
   "source": []
  }
 ],
 "metadata": {
  "anaconda-cloud": {},
  "kernelspec": {
   "display_name": "Python [conda env:tensorflow_py_3]",
   "language": "python",
   "name": "conda-env-tensorflow_py_3-py"
  },
  "language_info": {
   "codemirror_mode": {
    "name": "ipython",
    "version": 3
   },
   "file_extension": ".py",
   "mimetype": "text/x-python",
   "name": "python",
   "nbconvert_exporter": "python",
   "pygments_lexer": "ipython3",
   "version": "3.5.2"
  }
 },
 "nbformat": 4,
 "nbformat_minor": 0
}
