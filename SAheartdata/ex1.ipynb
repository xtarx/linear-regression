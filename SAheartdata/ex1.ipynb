{
 "cells": [
  {
   "cell_type": "code",
   "execution_count": 437,
   "metadata": {
    "collapsed": false
   },
   "outputs": [],
   "source": [
    "import os\n",
    "import pandas as pd\n",
    "from sklearn.linear_model import LogisticRegression\n",
    "from sklearn import metrics,preprocessing\n",
    "from sklearn.feature_selection import SelectFromModel\n",
    "from sklearn.linear_model import Ridge, RidgeCV, ElasticNet, LassoCV, LassoLarsCV\n",
    "\n",
    "import scipy\n",
    "path = os.getcwd()\n",
    "path='/Users/xtarx/Documents/TUM/4th/MLMA/ex1/SAheartdata/'"
   ]
  },
  {
   "cell_type": "code",
   "execution_count": 71,
   "metadata": {},
   "outputs": [],
   "source": [
    "def read_file(file_name,y_index):\n",
    "    data = pd.read_csv(path+file_name)\n",
    "    y=data[data.columns[y_index]].as_matrix()\n",
    "    x=data.drop(data.columns[[y_index]], axis=1).as_matrix()\n",
    "    return  x,y"
   ]
  },
  {
   "cell_type": "code",
   "execution_count": 81,
   "metadata": {},
   "outputs": [],
   "source": [
    "data = pd.read_csv(path + \"SAheart.csv\")\n",
    "data.famhist=pd.Categorical(data.famhist).codes"
   ]
  },
  {
   "cell_type": "code",
   "execution_count": 117,
   "metadata": {
    "collapsed": false
   },
   "outputs": [
    {
     "data": {
      "text/html": [
       "<div>\n",
       "<table border=\"1\" class=\"dataframe\">\n",
       "  <thead>\n",
       "    <tr style=\"text-align: right;\">\n",
       "      <th></th>\n",
       "      <th>sbp</th>\n",
       "      <th>tobacco</th>\n",
       "      <th>ldl</th>\n",
       "      <th>adiposity</th>\n",
       "      <th>famhist</th>\n",
       "      <th>typea</th>\n",
       "      <th>obesity</th>\n",
       "      <th>alcohol</th>\n",
       "      <th>age</th>\n",
       "      <th>chd</th>\n",
       "    </tr>\n",
       "  </thead>\n",
       "  <tbody>\n",
       "    <tr>\n",
       "      <th>0</th>\n",
       "      <td>160</td>\n",
       "      <td>12.00</td>\n",
       "      <td>5.73</td>\n",
       "      <td>23.11</td>\n",
       "      <td>1</td>\n",
       "      <td>49</td>\n",
       "      <td>25.30</td>\n",
       "      <td>97.20</td>\n",
       "      <td>52</td>\n",
       "      <td>1</td>\n",
       "    </tr>\n",
       "    <tr>\n",
       "      <th>1</th>\n",
       "      <td>144</td>\n",
       "      <td>0.01</td>\n",
       "      <td>4.41</td>\n",
       "      <td>28.61</td>\n",
       "      <td>0</td>\n",
       "      <td>55</td>\n",
       "      <td>28.87</td>\n",
       "      <td>2.06</td>\n",
       "      <td>63</td>\n",
       "      <td>1</td>\n",
       "    </tr>\n",
       "    <tr>\n",
       "      <th>2</th>\n",
       "      <td>118</td>\n",
       "      <td>0.08</td>\n",
       "      <td>3.48</td>\n",
       "      <td>32.28</td>\n",
       "      <td>1</td>\n",
       "      <td>52</td>\n",
       "      <td>29.14</td>\n",
       "      <td>3.81</td>\n",
       "      <td>46</td>\n",
       "      <td>0</td>\n",
       "    </tr>\n",
       "    <tr>\n",
       "      <th>3</th>\n",
       "      <td>170</td>\n",
       "      <td>7.50</td>\n",
       "      <td>6.41</td>\n",
       "      <td>38.03</td>\n",
       "      <td>1</td>\n",
       "      <td>51</td>\n",
       "      <td>31.99</td>\n",
       "      <td>24.26</td>\n",
       "      <td>58</td>\n",
       "      <td>1</td>\n",
       "    </tr>\n",
       "    <tr>\n",
       "      <th>4</th>\n",
       "      <td>134</td>\n",
       "      <td>13.60</td>\n",
       "      <td>3.50</td>\n",
       "      <td>27.78</td>\n",
       "      <td>1</td>\n",
       "      <td>60</td>\n",
       "      <td>25.99</td>\n",
       "      <td>57.34</td>\n",
       "      <td>49</td>\n",
       "      <td>1</td>\n",
       "    </tr>\n",
       "  </tbody>\n",
       "</table>\n",
       "</div>"
      ],
      "text/plain": [
       "<div>\n",
       "<table border=\"1\" class=\"dataframe\">\n",
       "  <thead>\n",
       "    <tr style=\"text-align: right;\">\n",
       "      <th></th>\n",
       "      <th>sbp</th>\n",
       "      <th>tobacco</th>\n",
       "      <th>ldl</th>\n",
       "      <th>adiposity</th>\n",
       "      <th>famhist</th>\n",
       "      <th>typea</th>\n",
       "      <th>obesity</th>\n",
       "      <th>alcohol</th>\n",
       "      <th>age</th>\n",
       "      <th>chd</th>\n",
       "    </tr>\n",
       "  </thead>\n",
       "  <tbody>\n",
       "    <tr>\n",
       "      <th>0</th>\n",
       "      <td>160</td>\n",
       "      <td>12.00</td>\n",
       "      <td>5.73</td>\n",
       "      <td>23.11</td>\n",
       "      <td>1</td>\n",
       "      <td>49</td>\n",
       "      <td>25.30</td>\n",
       "      <td>97.20</td>\n",
       "      <td>52</td>\n",
       "      <td>1</td>\n",
       "    </tr>\n",
       "    <tr>\n",
       "      <th>1</th>\n",
       "      <td>144</td>\n",
       "      <td>0.01</td>\n",
       "      <td>4.41</td>\n",
       "      <td>28.61</td>\n",
       "      <td>0</td>\n",
       "      <td>55</td>\n",
       "      <td>28.87</td>\n",
       "      <td>2.06</td>\n",
       "      <td>63</td>\n",
       "      <td>1</td>\n",
       "    </tr>\n",
       "    <tr>\n",
       "      <th>2</th>\n",
       "      <td>118</td>\n",
       "      <td>0.08</td>\n",
       "      <td>3.48</td>\n",
       "      <td>32.28</td>\n",
       "      <td>1</td>\n",
       "      <td>52</td>\n",
       "      <td>29.14</td>\n",
       "      <td>3.81</td>\n",
       "      <td>46</td>\n",
       "      <td>0</td>\n",
       "    </tr>\n",
       "    <tr>\n",
       "      <th>3</th>\n",
       "      <td>170</td>\n",
       "      <td>7.50</td>\n",
       "      <td>6.41</td>\n",
       "      <td>38.03</td>\n",
       "      <td>1</td>\n",
       "      <td>51</td>\n",
       "      <td>31.99</td>\n",
       "      <td>24.26</td>\n",
       "      <td>58</td>\n",
       "      <td>1</td>\n",
       "    </tr>\n",
       "    <tr>\n",
       "      <th>4</th>\n",
       "      <td>134</td>\n",
       "      <td>13.60</td>\n",
       "      <td>3.50</td>\n",
       "      <td>27.78</td>\n",
       "      <td>1</td>\n",
       "      <td>60</td>\n",
       "      <td>25.99</td>\n",
       "      <td>57.34</td>\n",
       "      <td>49</td>\n",
       "      <td>1</td>\n",
       "    </tr>\n",
       "  </tbody>\n",
       "</table>\n",
       "</div>"
      ]
     },
     "execution_count": 117,
     "metadata": {},
     "output_type": "execute_result"
    }
   ],
   "source": [
    "data.head()"
   ]
  },
  {
   "cell_type": "code",
   "execution_count": 421,
   "metadata": {},
   "outputs": [],
   "source": [
    "train_x = data.drop(data.columns[[-1]], axis=1).as_matrix()\n",
    "train_y = data[data.columns[-1]].as_matrix()"
   ]
  },
  {
   "cell_type": "code",
   "execution_count": 422,
   "metadata": {},
   "outputs": [
    {
     "data": {
      "text/plain": [
       "array([ 160.,  144.,  118.,  170.,  134.,  132.,  142.,  114.,  114.,\n        132.,  206.,  134.,  118.,  132.,  112.,  117.,  120.,  146.,\n        158.,  124.,  106.,  132.,  150.,  138.,  142.,  124.,  118.,\n        145.,  144.,  146.,  136.,  158.,  122.,  126.,  148.,  122.,\n        140.,  110.,  130.,  136.,  118.,  144.,  120.,  130.,  114.,\n        128.,  162.,  116.,  114.,  126.,  122.,  134.,  152.,  134.,\n        156.,  152.,  118.,  126.,  103.,  121.,  142.,  138.,  152.,\n        140.,  130.,  136.,  124.,  112.,  118.,  122.,  118.,  130.,\n        130.,  126.,  128.,  136.,  134.,  140.,  168.,  108.,  114.,\n        140.,  148.,  148.,  128.,  130.,  126.,  140.,  126.,  122.,\n        116.,  120.,  143.,  118.,  194.,  134.,  138.,  136.,  122.,\n        164.,  136.,  166.,  118.,  128.,  118.,  158.,  108.,  170.,\n        118.,  124.,  114.,  168.,  134.,  174.,  116.,  128.,  140.,\n        154.,  150.,  130.,  128.,  120.,  120.,  138.,  153.,  123.,\n        148.,  136.,  134.,  152.,  158.,  132.,  134.,  142.,  134.,\n        122.,  116.,  128.,  120.,  124.,  160.,  130.,  128.,  130.,\n        109.,  144.,  118.,  136.,  136.,  124.,  148.,  128.,  122.,\n        108.,  124.,  138.,  127.,  174.,  122.,  144.,  126.,  208.,\n        138.,  148.,  122.,  132.,  110.,  160.,  126.,  162.,  194.,\n        118.,  124.,  160.,  128.,  122.,  132.,  120.,  128.,  108.,\n        166.,  152.,  170.,  156.,  116.,  122.,  150.,  129.,  134.,\n        126.,  142.,  128.,  102.,  130.,  138.,  138.,  128.,  162.,\n        160.,  148.,  124.,  136.,  134.,  128.,  122.,  152.,  162.,\n        124.,  136.,  136.,  134.,  122.,  116.,  132.,  134.,  160.,\n        180.,  124.,  114.,  208.,  138.,  164.,  144.,  136.,  132.,\n        143.,  112.,  134.,  138.,  188.,  110.,  136.,  130.,  122.,\n        138.,  130.,  126.,  176.,  122.,  124.,  140.,  128.,  190.,\n        144.,  126.,  128.,  136.,  158.,  160.,  124.,  158.,  128.,\n        166.,  146.,  161.,  164.,  146.,  142.,  138.,  154.,  118.,\n        124.,  124.,  136.,  132.,  118.,  118.,  134.,  114.,  136.,\n        130.,  136.,  136.,  154.,  108.,  136.,  174.,  124.,  114.,\n        118.,  106.,  146.,  206.,  134.,  148.,  126.,  134.,  134.,\n        123.,  112.,  112.,  101.,  150.,  170.,  134.,  142.,  132.,\n        136.,  132.,  166.,  138.,  138.,  170.,  128.,  136.,  128.,\n        150.,  132.,  142.,  130.,  174.,  114.,  162.,  174.,  190.,\n        154.,  124.,  114.,  168.,  142.,  154.,  146.,  166.,  140.,\n        136.,  156.,  132.,  128.,  106.,  144.,  154.,  126.,  134.,\n        152.,  146.,  162.,  130.,  138.,  148.,  124.,  118.,  116.,\n        162.,  138.,  137.,  198.,  154.,  128.,  130.,  162.,  120.,\n        136.,  176.,  134.,  122.,  134.,  134.,  136.,  132.,  152.,\n        132.,  124.,  140.,  166.,  156.,  132.,  150.,  134.,  126.,\n        148.,  148.,  132.,  128.,  128.,  140.,  126.,  114.,  118.,\n        126.,  154.,  112.,  140.,  140.,  128.,  126.,  160.,  144.,\n        148.,  146.,  164.,  130.,  154.,  178.,  180.,  134.,  142.,\n        162.,  218.,  126.,  126.,  134.,  132.,  178.,  208.,  160.,\n        116.,  180.,  200.,  112.,  120.,  178.,  166.,  164.,  216.,\n        146.,  134.,  158.,  176.,  132.,  126.,  120.,  174.,  150.,\n        176.,  142.,  132.,  142.,  146.,  132.,  120.,  118.,  108.,\n        136.,  120.,  132.,  136.,  138.,  138.,  130.,  130.,  110.,\n        120.,  166.,  134.,  142.,  136.,  142.,  130.,  124.,  144.,\n        136.,  120.,  154.,  124.,  146.,  128.,  170.,  214.,  182.,\n        108.,  118.,  132.])"
      ]
     },
     "execution_count": 422,
     "metadata": {},
     "output_type": "execute_result"
    }
   ],
   "source": [
    "train_x[:,0]"
   ]
  },
  {
   "cell_type": "markdown",
   "metadata": {},
   "source": [
    "a) Create a model that contains only the intercept (null model), i.e. no features\n",
    "are considered."
   ]
  },
  {
   "cell_type": "code",
   "execution_count": 167,
   "metadata": {},
   "outputs": [],
   "source": [
    "def null_model(y):\n",
    "    logistic = LogisticRegression(C=1e6, solver='newton-cg', intercept_scaling=1e3)\n",
    "    X = np.zeros(y.size).reshape(-1, 1)\n",
    "    logistic.fit(X, y)\n",
    "    pred = logistic.predict(X)\n",
    "    ll = metrics.log_loss(y, pred)\n",
    "    return pred, ll"
   ]
  },
  {
   "cell_type": "markdown",
   "metadata": {},
   "source": [
    "Create multiple models each considering a single feature. Note that famhist\n",
    "is a categorical feature which has to be converted to numbers first."
   ]
  },
  {
   "cell_type": "code",
   "execution_count": 187,
   "metadata": {},
   "outputs": [],
   "source": [
    "def full_model(X, y):\n",
    "    logistic = LogisticRegression()\n",
    "    # X=X.reshape(-1,1)\n",
    "    logistic.fit(X, y)\n",
    "    pred = logistic.predict(X)\n",
    "    ll = metrics.log_loss(y, pred)\n",
    "    return pred, ll\n",
    "\n",
    "def model_wth_stats(X, y):\n",
    "    logistic = LogisticRegression()\n",
    "    X=X.reshape(-1,1)\n",
    "    logistic.fit(X, y)\n",
    "    pred = logistic.predict(X)\n",
    "    ll = metrics.log_loss(y, pred)\n",
    "    return pred, ll"
   ]
  },
  {
   "cell_type": "markdown",
   "metadata": {},
   "source": [
    "Create a function likelihood_ratio_test implementing the likelihood-ratio\n",
    "test which takes the log-likelihood of the full model and the reduced model\n",
    "(Section 1.1). Use this function to compare the single feature models to the\n",
    "null model. Which feature yields the most significant improvement over the\n",
    "null model? Make sure you consider the p-value of the likelihood-ratio test."
   ]
  },
  {
   "cell_type": "code",
   "execution_count": 196,
   "metadata": {},
   "outputs": [],
   "source": [
    "def likelihood_ratio_test(full_model_ll, reduced_model_ll, df):\n",
    "    D = -2 * (full_model_ll - reduced_model_ll)\n",
    "    p = scipy.special.gammaincc(df / 2, D / 2)\n",
    "    return p"
   ]
  },
  {
   "cell_type": "code",
   "execution_count": 183,
   "metadata": {
    "collapsed": true
   },
   "outputs": [],
   "source": [
    "null_pred, null_ll = null_model(train_y)\n",
    "full_pred, full_ll = full_model(train_x, train_y)"
   ]
  },
  {
   "cell_type": "code",
   "execution_count": 145,
   "metadata": {},
   "outputs": [],
   "source": [
    "sbp_pred, sbp_ll = model_wth_stats(train_x[:,4], train_y)"
   ]
  },
  {
   "cell_type": "code",
   "execution_count": 146,
   "metadata": {},
   "outputs": [
    {
     "data": {
      "text/plain": [
       "11.961481002566471"
      ]
     },
     "execution_count": 146,
     "metadata": {},
     "output_type": "execute_result"
    }
   ],
   "source": [
    "sbp_ll"
   ]
  },
  {
   "cell_type": "code",
   "execution_count": 225,
   "metadata": {},
   "outputs": [],
   "source": [
    "models = []\n",
    "models_ll = []\n",
    "p_value = []\n",
    "\n",
    "#Null model\n",
    "\n",
    "\n",
    "for i in range(0, train_x.shape[1]):\n",
    "    pred,ll=model_wth_stats(train_x[:,i],train_y)\n",
    "    models.append(pred)\n",
    "    models_ll.append(ll)\n",
    "    p_value.append(likelihood_ratio_test(full_ll, ll, 1))"
   ]
  },
  {
   "cell_type": "code",
   "execution_count": 227,
   "metadata": {},
   "outputs": [
    {
     "data": {
      "text/plain": [
       "[0.022162154485560338,\n 0.13424775557170157,\n 0.037315655125469561,\n 0.034184515102020641,\n 0.018671475844365633,\n 0.018671475844365633,\n 0.018671475844365633,\n 0.017144204216065061,\n 0.037313151396706302]"
      ]
     },
     "execution_count": 227,
     "metadata": {},
     "output_type": "execute_result"
    }
   ],
   "source": [
    "p_value"
   ]
  },
  {
   "cell_type": "code",
   "execution_count": 228,
   "metadata": {},
   "outputs": [
    {
     "data": {
      "text/plain": [
       "[11.8119728744166,\n 10.316810248590579,\n 11.363441567045514,\n 11.438193900390081,\n 11.961481002566471,\n 11.961481002566471,\n 11.961481002566471,\n 12.036243720293246,\n 11.36349868114767]"
      ]
     },
     "execution_count": 228,
     "metadata": {},
     "output_type": "execute_result"
    }
   ],
   "source": [
    "models_ll"
   ]
  },
  {
   "cell_type": "code",
   "execution_count": 230,
   "metadata": {},
   "outputs": [
    {
     "data": {
      "text/plain": [
       "[0.022162154485560338,\n 0.13424775557170157,\n 0.037315655125469561,\n 0.034184515102020641,\n 0.018671475844365633,\n 0.018671475844365633,\n 0.018671475844365633,\n 0.017144204216065061,\n 0.037313151396706302]"
      ]
     },
     "execution_count": 230,
     "metadata": {},
     "output_type": "execute_result"
    }
   ],
   "source": [
    "p_value"
   ]
  },
  {
   "cell_type": "markdown",
   "metadata": {},
   "source": [
    "d) Create a model which considers multiple features by starting with the null\n",
    "model and adding one additional feature at a time. To determine which feature\n",
    "to add, use the p-value as returned by the likelihood-ratio test. Extended\n",
    "models with one additional feature, where the p-value is greater than 0.05,\n",
    "should not be considered. In each step choose the model with the smallest\n",
    "p-value. Continue until all features have been selected or the model cannot be\n",
    "improved significantly any more. Print all selected features."
   ]
  },
  {
   "cell_type": "code",
   "execution_count": 379,
   "metadata": {},
   "outputs": [
    {
     "name": "stdout",
     "output_type": "stream",
     "text": [
      "0.0186714758444\nll new is  12.0362437203\nfeature # 7  was added to our list\nll new is  11.7372413098\nfeature # 4  was added to our list\nll new is  11.5129860405\nfeature # 5  was added to our list\nll new is  11.2886996181\nfeature # 6  was added to our list\nll new is  10.3915885429\nfeature # 0  was added to our list\nll new is  9.34496760882\nfeature # 3  was added to our list\nll new is  9.64402367192\nfeature # 8  was added to our list\nll new is  9.41974244166\nfeature # 2  was added to our list\nfeature #  1  shall not be considerd as p is >0.05  ---  0.134247755572\n"
     ]
    }
   ],
   "source": [
    "p_sorted_index = np.argsort(p_value)\n",
    "#create null model\n",
    "current_p = likelihood_ratio_test(full_ll, null_ll, 1)\n",
    "# feature_new = np.zeros(train_y.size)\n",
    "first_time=0\n",
    "print(current_p)\n",
    "feature_new = np.zeros(train_y.size)\n",
    "for i in range(0, len(p_sorted_index)):\n",
    "\n",
    "    if (p_value[p_sorted_index[i]] > 0.05):\n",
    "        print(\"feature # \", p_sorted_index[i], \" shall not be considerd as p is >0.05  --- \",\n",
    "              p_value[p_sorted_index[i]])\n",
    "        \n",
    "    else:\n",
    "        col_new = train_x[:, p_sorted_index[i]]\n",
    "        \n",
    "        feature_new = np.column_stack((feature_new, col_new))\n",
    "        if(first_time==0):\n",
    "            feature_new=feature_new[:,1:]\n",
    "            first_time=99\n",
    "\n",
    "        #we stacked the columns, now we calcuate the new logloss \n",
    "        _,ll_new=full_model(feature_new,train_y)\n",
    "        print(\"ll new is \", ll_new)\n",
    "        print(\"feature #\", p_sorted_index[i], \" was added to our list\")\n",
    "        p_new=likelihood_ratio_test(full_ll,ll_new,1)\n",
    "        # if (p_new>= current_p ):\n",
    "        #     break"
   ]
  },
  {
   "cell_type": "code",
   "execution_count": 380,
   "metadata": {},
   "outputs": [
    {
     "name": "stdout",
     "output_type": "stream",
     "text": [
      "ll new is  9.41974244166\n"
     ]
    }
   ],
   "source": [
    "_, ll_new = full_model(feature_new, train_y)\n",
    "print(\"ll new is \", ll_new)"
   ]
  },
  {
   "cell_type": "markdown",
   "metadata": {
    "collapsed": true
   },
   "source": [
    "L1 (lasso) regularization can also be used for feature selection. Consider a\n",
    "full model with all features as input, penalized with the L1 norm of coefficients\n",
    "(try regularization parameter C in the range of 0.01 − 0.1). Features\n",
    "with an non-zero coefficient are important for the classification. Compare the\n",
    "Lasso-selected features to the features selected by p-values. Please note Lassofeature\n",
    "selection requires a standardization of features that each feature has a\n",
    "zero mean and a unit standard derivation (e.g.using Sklearn built-in function\n",
    "sklearn.preprocessing.scale)"
   ]
  },
  {
   "cell_type": "code",
   "execution_count": 500,
   "metadata": {},
   "outputs": [],
   "source": [
    "def lasso(X, y):\n",
    "    # X = preprocessing.scale(X)\n",
    "    # clf = LassoCV(alphas = [ 0.1, 0.001, 0.0005])\n",
    "    # sfm = SelectFromModel(clf)\n",
    "    # sfm.fit(X, y)\n",
    "    # n_features = sfm.transform(X).shape[1]\n",
    "    # return sfm\n",
    "    lsvc = LassoCV(alphas = [ 0.1, 0.001, 0.0005]).fit(X, y)\n",
    "    model = SelectFromModel(lsvc, prefit=True)\n",
    "    X_new = model.transform(X)\n",
    "    return X_new.shape"
   ]
  },
  {
   "cell_type": "code",
   "execution_count": 501,
   "metadata": {},
   "outputs": [],
   "source": [
    ""
   ]
  },
  {
   "cell_type": "code",
   "execution_count": 501,
   "metadata": {},
   "outputs": [],
   "source": [
    "lassofeatures=lasso(train_x, train_y)"
   ]
  },
  {
   "cell_type": "code",
   "execution_count": 503,
   "metadata": {},
   "outputs": [
    {
     "data": {
      "text/plain": [
       "(462, 9)"
      ]
     },
     "execution_count": 503,
     "metadata": {},
     "output_type": "execute_result"
    }
   ],
   "source": [
    "lassofeatures"
   ]
  },
  {
   "cell_type": "code",
   "execution_count": 471,
   "metadata": {},
   "outputs": [],
   "source": [
    ""
   ]
  },
  {
   "cell_type": "code",
   "execution_count": null,
   "metadata": {},
   "outputs": [],
   "source": [
    ""
   ]
  }
 ],
 "metadata": {
  "kernelspec": {
   "display_name": "Python 2",
   "language": "python",
   "name": "python2"
  },
  "language_info": {
   "codemirror_mode": {
    "name": "ipython",
    "version": 2.0
   },
   "file_extension": ".py",
   "mimetype": "text/x-python",
   "name": "python",
   "nbconvert_exporter": "python",
   "pygments_lexer": "ipython2",
   "version": "2.7.6"
  }
 },
 "nbformat": 4,
 "nbformat_minor": 0
}